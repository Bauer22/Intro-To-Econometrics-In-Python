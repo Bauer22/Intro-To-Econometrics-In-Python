{
 "cells": [
  {
   "cell_type": "markdown",
   "metadata": {},
   "source": [
    "# Lab: Appendix C\n",
    "\n",
    "## Goals:\n",
    "\n",
    "The goals for the this lab are to use real data to explore important concepts in Appendix B and Appendix C of Wooldridge using real data. In this lab we will explore concepts related to:\n",
    "\n",
    "\n",
    " - Estimates and Estimators\n",
    " - hypothesis testing and pvalues\n",
    "\n",
    "## Basics\n",
    "\n",
    "1. Always include your import statements. Remember that you can add to the import statements at any time, as long as you rerun your code after. Copy and pasting what is inside these notebooks will suffice."
   ]
  },
  {
   "cell_type": "code",
   "execution_count": 2,
   "metadata": {},
   "outputs": [],
   "source": [
    "import pandas as pd\n",
    "import numpy as np\n",
    "from scipy import stats\n",
    "import statsmodels as sm\n",
    "from IPython.display import Image"
   ]
  },
  {
   "cell_type": "markdown",
   "metadata": {},
   "source": [
    "2. Load the dataset entitled “Holzer et al”. The dataset is in .xlsx format which is a little different\n",
    "then loading a stata dataset. In this case the python package has a method pandas.read_excel\n",
    "which works the same as pandas.read_stata which we have used before.\n",
    "\n",
    "You might need to do a pip install xlrd in your terminal/console if its your first time using pandas.\n",
    "\n"
   ]
  },
  {
   "cell_type": "code",
   "execution_count": 3,
   "metadata": {},
   "outputs": [
    {
     "data": {
      "text/html": [
       "<div>\n",
       "<style scoped>\n",
       "    .dataframe tbody tr th:only-of-type {\n",
       "        vertical-align: middle;\n",
       "    }\n",
       "\n",
       "    .dataframe tbody tr th {\n",
       "        vertical-align: top;\n",
       "    }\n",
       "\n",
       "    .dataframe thead th {\n",
       "        text-align: right;\n",
       "    }\n",
       "</style>\n",
       "<table border=\"1\" class=\"dataframe\">\n",
       "  <thead>\n",
       "    <tr style=\"text-align: right;\">\n",
       "      <th></th>\n",
       "      <th>Firm</th>\n",
       "      <th>Scrap Rate 1987</th>\n",
       "      <th>Scrap Rate 1988</th>\n",
       "    </tr>\n",
       "  </thead>\n",
       "  <tbody>\n",
       "    <tr>\n",
       "      <th>0</th>\n",
       "      <td>1</td>\n",
       "      <td>10.00</td>\n",
       "      <td>3.00</td>\n",
       "    </tr>\n",
       "    <tr>\n",
       "      <th>1</th>\n",
       "      <td>2</td>\n",
       "      <td>1.00</td>\n",
       "      <td>1.00</td>\n",
       "    </tr>\n",
       "    <tr>\n",
       "      <th>2</th>\n",
       "      <td>3</td>\n",
       "      <td>6.00</td>\n",
       "      <td>5.00</td>\n",
       "    </tr>\n",
       "    <tr>\n",
       "      <th>3</th>\n",
       "      <td>4</td>\n",
       "      <td>0.45</td>\n",
       "      <td>0.50</td>\n",
       "    </tr>\n",
       "    <tr>\n",
       "      <th>4</th>\n",
       "      <td>5</td>\n",
       "      <td>1.24</td>\n",
       "      <td>1.54</td>\n",
       "    </tr>\n",
       "    <tr>\n",
       "      <th>5</th>\n",
       "      <td>6</td>\n",
       "      <td>1.30</td>\n",
       "      <td>1.50</td>\n",
       "    </tr>\n",
       "    <tr>\n",
       "      <th>6</th>\n",
       "      <td>7</td>\n",
       "      <td>1.06</td>\n",
       "      <td>0.80</td>\n",
       "    </tr>\n",
       "    <tr>\n",
       "      <th>7</th>\n",
       "      <td>8</td>\n",
       "      <td>3.00</td>\n",
       "      <td>2.00</td>\n",
       "    </tr>\n",
       "    <tr>\n",
       "      <th>8</th>\n",
       "      <td>9</td>\n",
       "      <td>8.18</td>\n",
       "      <td>0.67</td>\n",
       "    </tr>\n",
       "    <tr>\n",
       "      <th>9</th>\n",
       "      <td>10</td>\n",
       "      <td>1.67</td>\n",
       "      <td>1.17</td>\n",
       "    </tr>\n",
       "    <tr>\n",
       "      <th>10</th>\n",
       "      <td>11</td>\n",
       "      <td>0.98</td>\n",
       "      <td>0.51</td>\n",
       "    </tr>\n",
       "    <tr>\n",
       "      <th>11</th>\n",
       "      <td>12</td>\n",
       "      <td>1.00</td>\n",
       "      <td>0.50</td>\n",
       "    </tr>\n",
       "    <tr>\n",
       "      <th>12</th>\n",
       "      <td>13</td>\n",
       "      <td>0.45</td>\n",
       "      <td>0.61</td>\n",
       "    </tr>\n",
       "    <tr>\n",
       "      <th>13</th>\n",
       "      <td>14</td>\n",
       "      <td>5.03</td>\n",
       "      <td>6.70</td>\n",
       "    </tr>\n",
       "    <tr>\n",
       "      <th>14</th>\n",
       "      <td>15</td>\n",
       "      <td>8.00</td>\n",
       "      <td>4.00</td>\n",
       "    </tr>\n",
       "    <tr>\n",
       "      <th>15</th>\n",
       "      <td>16</td>\n",
       "      <td>9.00</td>\n",
       "      <td>7.00</td>\n",
       "    </tr>\n",
       "    <tr>\n",
       "      <th>16</th>\n",
       "      <td>17</td>\n",
       "      <td>18.00</td>\n",
       "      <td>19.00</td>\n",
       "    </tr>\n",
       "    <tr>\n",
       "      <th>17</th>\n",
       "      <td>18</td>\n",
       "      <td>0.28</td>\n",
       "      <td>0.20</td>\n",
       "    </tr>\n",
       "    <tr>\n",
       "      <th>18</th>\n",
       "      <td>19</td>\n",
       "      <td>7.00</td>\n",
       "      <td>5.00</td>\n",
       "    </tr>\n",
       "    <tr>\n",
       "      <th>19</th>\n",
       "      <td>20</td>\n",
       "      <td>3.97</td>\n",
       "      <td>3.83</td>\n",
       "    </tr>\n",
       "  </tbody>\n",
       "</table>\n",
       "</div>"
      ],
      "text/plain": [
       "    Firm   Scrap Rate 1987  Scrap Rate 1988\n",
       "0       1            10.00             3.00\n",
       "1       2             1.00             1.00\n",
       "2       3             6.00             5.00\n",
       "3       4             0.45             0.50\n",
       "4       5             1.24             1.54\n",
       "5       6             1.30             1.50\n",
       "6       7             1.06             0.80\n",
       "7       8             3.00             2.00\n",
       "8       9             8.18             0.67\n",
       "9      10             1.67             1.17\n",
       "10     11             0.98             0.51\n",
       "11     12             1.00             0.50\n",
       "12     13             0.45             0.61\n",
       "13     14             5.03             6.70\n",
       "14     15             8.00             4.00\n",
       "15     16             9.00             7.00\n",
       "16     17            18.00            19.00\n",
       "17     18             0.28             0.20\n",
       "18     19             7.00             5.00\n",
       "19     20             3.97             3.83"
      ]
     },
     "execution_count": 3,
     "metadata": {},
     "output_type": "execute_result"
    }
   ],
   "source": [
    "df = pd.read_excel(\"C:/Users/patri/Desktop/Metrics TA/Intro-To-Econometrics-In-Python/Datasets/Holzer-et-al.xlsx\")\n",
    "df"
   ]
  },
  {
   "cell_type": "markdown",
   "metadata": {},
   "source": [
    "2. The dataset contains information on 20 randomly sampled manufacturing firms in Michigan who received\n",
    "training grants in 1988 to improve worker productivity. Worker productivity is captured by “scrap rates” are the number of products (per 100 produced) that are unusable and must be discarded. The variables contained in the dataset are:\n",
    "• Firm number\n",
    "• Scrap rate in 1987\n",
    "• Scrap rate in 1988"
   ]
  },
  {
   "cell_type": "markdown",
   "metadata": {},
   "source": [
    "## Estimates, Estimators, and Hypothesis Testing\n",
    "\n",
    "We are interested in estimating the average change in scrap rates for firms undergoing the job training program.\n",
    "\n",
    "We know from class that the least-squared estimator of the mean change in scrap rates for the population of Michigan manufacturing firms (µ∆scraprate) is the sample mean in the change in scrap rates ($\\bar{Y}$∆scraprate).\n",
    "\n",
    "To get an estimate using our sample we need to:\n",
    "\n",
    "1. Generate a new column  called “change” equal to the change in scrap rates between 1987 and 1988"
   ]
  },
  {
   "cell_type": "code",
   "execution_count": 4,
   "metadata": {
    "pycharm": {
     "name": "#%%\n"
    }
   },
   "outputs": [],
   "source": [
    "#As we learned in the last tutorial, generate a new column:\n",
    "df['change'] = df['Scrap Rate 1988'] - df['Scrap Rate 1987']"
   ]
  },
  {
   "cell_type": "markdown",
   "metadata": {},
   "source": [
    "2. Calculate the mean of this new variable to find $\\bar{Y}$∆scraprate using the “sum” command.\n",
    "Through these steps we get an estimate that the mean population change in scrap rates is −1.15 (the sample\n",
    "mean)."
   ]
  },
  {
   "cell_type": "code",
   "execution_count": 5,
   "metadata": {},
   "outputs": [
    {
     "name": "stdout",
     "output_type": "stream",
     "text": [
      "The mean is:  -1.154\n"
     ]
    }
   ],
   "source": [
    "#Numpy has a built in mean function\n",
    "changeMean = np.mean(df['change'])\n",
    "print(\"The mean is: \", changeMean)"
   ]
  },
  {
   "cell_type": "markdown",
   "metadata": {
    "pycharm": {
     "name": "#%% md\n"
    }
   },
   "source": [
    "Next we want to get an idea on whether this change is practically and statistically significant. To understand\n",
    "if this is a practically significant effect, we can calculate the change in scrap rates (−1.15) as a percentage of the\n",
    "average scrap rate in 1987.\n",
    "\n",
    "1. Calculate the mean scrap-rate in 1987 using the summary command, then use our estimate of the change\n",
    "(−1.15) to calculate the percentage."
   ]
  },
  {
   "cell_type": "code",
   "execution_count": 6,
   "metadata": {
    "pycharm": {
     "name": "#%%\n"
    }
   },
   "outputs": [
    {
     "data": {
      "text/plain": [
       "-0.26344024654719783"
      ]
     },
     "execution_count": 6,
     "metadata": {},
     "output_type": "execute_result"
    }
   ],
   "source": [
    "# So we can simply use the mean function again\n",
    "# and use the changeMean that we calculated earlier\n",
    "changeMean / np.mean(df['Scrap Rate 1987'])\n"
   ]
  },
  {
   "cell_type": "markdown",
   "metadata": {
    "pycharm": {
     "name": "#%% md\n"
    }
   },
   "source": [
    "We can see that the estimate indicates that these firms who undertook the training program had their scrap\n",
    "rates fall by approximately 26.3%. This is a practically large change.\n",
    "\n",
    "To test whether this result is statistically significant we need to perform a hypothesis test.\n",
    "\n",
    "To perform this ttest (1 sample mean comparison test) we are going to use stats from the scipy package. This will allow us to talk about ttest's a little more and go more indepth.\n",
    "\n",
    "Remember that our hypothesized mean will be 0"
   ]
  },
  {
   "cell_type": "code",
   "execution_count": 7,
   "metadata": {
    "pycharm": {
     "name": "#%%\n"
    }
   },
   "outputs": [
    {
     "data": {
      "text/plain": [
       "Ttest_1sampResult(statistic=-2.149495082310236, pvalue=0.04468972800509544)"
      ]
     },
     "execution_count": 7,
     "metadata": {},
     "output_type": "execute_result"
    }
   ],
   "source": [
    "stats.ttest_1samp(df['change'],0)"
   ]
  },
  {
   "cell_type": "markdown",
   "metadata": {},
   "source": [
    "For continuity, we can also use the statsmodel package as below. This has the same functionality, but slightly different implementation. As we can see below, it also outputs the degrees of freedom in the model and automatically uses 0 as the hypothesized mean unless otherwise specified.\n",
    "\n",
    "As we progress into more complicated tests and operations, I will be using the statsmodel package to implement them. \n",
    "\n",
    "It should be noted that you can use other packages like researchpy etc. I just happen to know statsmodel well.\n",
    "\n"
   ]
  },
  {
   "cell_type": "code",
   "execution_count": 8,
   "metadata": {},
   "outputs": [
    {
     "data": {
      "text/plain": [
       "(-2.1494950823102363, 0.0446897280050954, 19.0)"
      ]
     },
     "execution_count": 8,
     "metadata": {},
     "output_type": "execute_result"
    }
   ],
   "source": [
    "from statsmodels.stats.weightstats import DescrStatsW as smstat\n",
    "smstat(df.change).ttest_mean()"
   ]
  },
  {
   "cell_type": "markdown",
   "metadata": {
    "pycharm": {
     "name": "#%% md\n"
    }
   },
   "source": [
    "Notice that in python, we have a much less verbose output than stata. We simply are given the t stat and the p value.\n",
    "\n",
    "Below is the output from the stata version of this lab.\n",
    "![](Intro-To-Econometrics-In-Python/Images/stataoutputttest.png)\n"
   ]
  },
  {
   "cell_type": "markdown",
   "metadata": {},
   "source": [
    "But all of the other information can be easily calculated.\n",
    "\n",
    "We will do it one at a time."
   ]
  },
  {
   "cell_type": "code",
   "execution_count": 10,
   "metadata": {
    "pycharm": {
     "name": "#%%\n"
    }
   },
   "outputs": [
    {
     "name": "stdout",
     "output_type": "stream",
     "text": [
      "20\n",
      "-1.154\n",
      "0.536870267579167\n"
     ]
    }
   ],
   "source": [
    "# 1. Number of observations\n",
    "print(df['change'].size)\n",
    "\n",
    "# 2. mean we already know\n",
    "print(np.mean(df['change']))\n",
    "\n",
    "# 3. Standard Error\n",
    "print(stats.sem(df['change']))"
   ]
  },
  {
   "cell_type": "markdown",
   "metadata": {},
   "source": [
    "4. We already know the alternate hypothesis is 0 by the nature of the test. But we could also use the statsmodel version to find the degrees of freedom.\n",
    "\n",
    "The degrees of freedom are easy to see as 19, since we have 20 observations.\n",
    "\n",
    "For 6, 7, and 8 we will always get the T statistic with the correct sign in python.\n",
    "\n",
    "This means that given p and t values from a two-tailed test,\n",
    "you would reject the null hypothesis of a greater-than test when p/2 < alpha and t > 0.\n",
    "\n",
    "And for a less-than test when p/2 < alpha and t < 0.\n",
    "\n",
    "We can write that out a little more intuitively using a function and do the simple calculation of p/2 to find the one tailed area"
   ]
  },
  {
   "cell_type": "code",
   "execution_count": 11,
   "metadata": {
    "pycharm": {
     "name": "#%%\n"
    }
   },
   "outputs": [],
   "source": [
    "# We already know that the ttest gives us the t and p value (in that order)\n",
    "t, p = stats.ttest_1samp(df['change'],0)\n",
    "\n",
    "# This is a function in python\n",
    "# The variables inside the brackets of the def line are the inputs to the function\n",
    "# In this case t and p are from our ttest above\n",
    "# We will then need to set the apha and the altHpyothesis when we call the function (which we do in the next code block))\n",
    "def oneTailed(t, p, alpha, altHypothesis):\n",
    "    if altHypothesis == 'greater' and (p/2 < alpha) and t > 0:\n",
    "        print(' The p value is ', p/2 )\n",
    "        print ('Reject Null Hypothesis for greater-than test at ', alpha*100,'%')\n",
    "    elif altHypothesis == 'greater':\n",
    "        print(' The p value is ', p/2 )\n",
    "        print('Fail to Reject Null Hypothesis for greater-than test at ', alpha*100,'%')\n",
    "    if altHypothesis == 'less' and (p/2 < alpha) and t < 0:\n",
    "        print(' The p value is ', 1-(p/2) )\n",
    "        print ('Reject Null Hypothesis for less-than test at ', alpha*100,'%')\n",
    "    elif altHypothesis == 'less':\n",
    "        print(' The p value is ', 1-(p/2) )\n",
    "        print('Fail to Reject Null Hypothesis for less-than test at ', alpha*100,'%')"
   ]
  },
  {
   "cell_type": "markdown",
   "metadata": {},
   "source": [
    "With this function defined, we now have equivilents to 6, 7, 8 from the stata output\n",
    "\n",
    "Starting with 6."
   ]
  },
  {
   "cell_type": "code",
   "execution_count": 12,
   "metadata": {
    "pycharm": {
     "name": "#%%\n"
    }
   },
   "outputs": [
    {
     "name": "stdout",
     "output_type": "stream",
     "text": [
      " The p value is  0.9776551359974522\n",
      "Fail to Reject Null Hypothesis for less-than test at  1.0 %\n",
      " The p value is  0.9776551359974522\n",
      "Reject Null Hypothesis for less-than test at  5.0 %\n",
      " The p value is  0.9776551359974522\n",
      "Reject Null Hypothesis for less-than test at  10.0 %\n"
     ]
    }
   ],
   "source": [
    "# 6. One tailed less than test\n",
    "oneTailed(t,p, 0.01, 'less')\n",
    "oneTailed(t,p, 0.05, 'less')\n",
    "oneTailed(t,p, 0.10, 'less')"
   ]
  },
  {
   "cell_type": "markdown",
   "metadata": {},
   "source": [
    "For this test we have HA : µ∆scraprate <0. Essentially this makes our null: H0 : µ∆scraprate ≥ 0. The pvalue for this alternative is 0.0223. With this\n",
    "alternative, we reject the null at 5% and 10%, but fail to reject it at 1%.\n",
    "For this hypothesis test, the pvalue is the following area (t19 indicates that we are using a t-distribution with\n",
    "19 d.o.f.:\n",
    "![](Images/6.png)\n",
    "\n",
    "For HA : µ∆scraprate ̸= 0. We simply need to access the P value from before since this is just a two tailed test.\n"
   ]
  },
  {
   "cell_type": "code",
   "execution_count": 14,
   "metadata": {
    "pycharm": {
     "name": "#%%\n"
    }
   },
   "outputs": [
    {
     "name": "stdout",
     "output_type": "stream",
     "text": [
      "0.04468972800509544\n"
     ]
    }
   ],
   "source": [
    "# 7. Two Tailed this is just our p value from before\n",
    "\n",
    "print(p)"
   ]
  },
  {
   "cell_type": "markdown",
   "metadata": {},
   "source": [
    "The third alternative is HA : µ∆scraprate > 0, essentially making our null H0 : µ∆scraprate ≤ 0. Under this\n",
    "alternative, our pvalue is extremely high we fail to reject at all plausible levels.\n",
    "\n",
    "![7](Images/7.png)"
   ]
  },
  {
   "cell_type": "code",
   "execution_count": 15,
   "metadata": {
    "pycharm": {
     "name": "#%%\n"
    }
   },
   "outputs": [
    {
     "name": "stdout",
     "output_type": "stream",
     "text": [
      " The p value is  0.02234486400254772\n",
      "Fail to Reject Null Hypothesis for greater-than test at  1.0 %\n",
      " The p value is  0.02234486400254772\n",
      "Fail to Reject Null Hypothesis for greater-than test at  5.0 %\n",
      " The p value is  0.02234486400254772\n",
      "Fail to Reject Null Hypothesis for greater-than test at  10.0 %\n"
     ]
    }
   ],
   "source": [
    "# 8. One tailed greater than test\n",
    "oneTailed(t,p, 0.01, 'greater')\n",
    "oneTailed(t,p, 0.05, 'greater')\n",
    "oneTailed(t,p, 0.10, 'greater')"
   ]
  },
  {
   "cell_type": "markdown",
   "metadata": {},
   "source": [
    "For this hypothesis test, the pvalue is the following areas:\n",
    "\n",
    "<img src=\"images/8.png\" width=\"800\" /> \n",
    "\n",
    "![](images/8.png)\n",
    "\n",
    "<img src=images/8.png width=800 /> "
   ]
  },
  {
   "cell_type": "markdown",
   "metadata": {},
   "source": [
    "Here, the third alternative is probably of little interest. In this situation, we are likely most interested in the\n",
    "first alternative hypothesis listed above (we assume that worker training does not have a negative effect). If we are\n",
    "just interested in any departure from the null, we would use the second alternative hypothesis listed above. With\n",
    "either of these alternatives, we would conclude that we would reject the null that there is no effect of training on\n",
    "worker productivity at 5%.\n",
    "\n"
   ]
  }
 ],
 "metadata": {
  "kernelspec": {
   "display_name": "Python 3",
   "language": "python",
   "name": "python3"
  },
  "language_info": {
   "codemirror_mode": {
    "name": "ipython",
    "version": 3
   },
   "file_extension": ".py",
   "mimetype": "text/x-python",
   "name": "python",
   "nbconvert_exporter": "python",
   "pygments_lexer": "ipython3",
   "version": "3.8.6"
  }
 },
 "nbformat": 4,
 "nbformat_minor": 4
}

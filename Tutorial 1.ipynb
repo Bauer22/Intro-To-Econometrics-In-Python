{
 "cells": [
  {
   "cell_type": "markdown",
   "metadata": {},
   "source": [
    "# Tutorial 1\n",
    "\n",
    "## Intro to using Python for Econometrics\n",
    "\n",
    "The goals for this lab are to learn several basic uses of statistics in python including\n",
    "\n",
    "<ol>\n",
    "<li>Loading a dataset</li>\n",
    "<li>Creating a Data Frame from the dataset</li>\n",
    "<li>Interacting with the Data Frame </li>\n",
    "<li>Generating new columns </li>\n",
    "<li>Calculating sample statistics</li>\n",
    "<li>Creating a histogram</li>\n",
    "</ol>"
   ]
  },
  {
   "cell_type": "markdown",
   "metadata": {},
   "source": [
    "Before we start to code, we need to make sure that we have all of the python packages that we will be using\n",
    "for this lab. You may need to do little bit of work to get everything set up.\n",
    "\n",
    "When you are coding youself, you will often find yourself adding packages as you go. Just make\n",
    "sure they all go at the top!\n",
    "\n"
   ]
  },
  {
   "cell_type": "code",
   "execution_count": 7,
   "metadata": {},
   "outputs": [],
   "source": [
    "import pandas as pd\n",
    "import numpy as np\n",
    "from scipy.stats import norm\n",
    "import matplotlib.pyplot as plt\n"
   ]
  },
  {
   "cell_type": "markdown",
   "metadata": {},
   "source": [
    "As you can see we have added 4 things. Each of them you can google for more information, but here is a quick over view:\n",
    "\n",
    "Pandas: Used for \"data frames\" often shortened to df. You can think of a df as a table or excel sheet with rows and columns\n",
    "\n",
    "Numpy: Adds additional mathematical and statistical functions\n",
    "\n",
    "Scipy: More math and stats\n",
    "\n",
    "Matplotlib: Graphing in python"
   ]
  },
  {
   "cell_type": "markdown",
   "metadata": {},
   "source": [
    "# Loading a dataset\n",
    "\n",
    "Here, I am creating a datafame df from the data provided in lab1.\n",
    "\n",
    "You can use the same URL to get the data off of the github repo, or you can use the same command for a local filepath.\n",
    "\n",
    "Remember, we imported pandas as pd and we are trying to load a .dta file. Luckily pandas has a function for reading stata files.\n",
    "\n",
    "Pandas also has pd.read_excel which works the same way.\n",
    "\n",
    "Note that the df on the right side of the equals sign is simply the name of the data frame\n",
    "\n",
    "Typing the dataframe's name and running the code prints the a preview of the dataframe."
   ]
  },
  {
   "cell_type": "code",
   "execution_count": 8,
   "metadata": {
    "pycharm": {
     "name": "#%%\n"
    }
   },
   "outputs": [
    {
     "ename": "ValueError",
     "evalue": "Version of given Stata file is 10. pandas supports importing versions 105, 108, 111 (Stata 7SE), 113 (Stata 8/9), 114 (Stata 10/11), 115 (Stata 12), 117 (Stata 13), 118 (Stata 14/15/16),and 119 (Stata 15/16, over 32,767 variables).",
     "output_type": "error",
     "traceback": [
      "\u001B[1;31m---------------------------------------------------------------------------\u001B[0m",
      "\u001B[1;31mValueError\u001B[0m                                Traceback (most recent call last)",
      "\u001B[1;32m<ipython-input-8-ca4f34e26f25>\u001B[0m in \u001B[0;36m<module>\u001B[1;34m\u001B[0m\n\u001B[1;32m----> 1\u001B[1;33m \u001B[0mdf\u001B[0m \u001B[1;33m=\u001B[0m \u001B[0mpd\u001B[0m\u001B[1;33m.\u001B[0m\u001B[0mread_stata\u001B[0m\u001B[1;33m(\u001B[0m\u001B[1;34m\"https://github.com/Bauer22/Intro-To-Econometrics-In-Python/blob/main/Datasets/Lab1.dta\"\u001B[0m\u001B[1;33m)\u001B[0m\u001B[1;33m\u001B[0m\u001B[1;33m\u001B[0m\u001B[0m\n\u001B[0m\u001B[0;32m      2\u001B[0m \u001B[0mdf\u001B[0m\u001B[1;33m\u001B[0m\u001B[1;33m\u001B[0m\u001B[0m\n\u001B[0;32m      3\u001B[0m \u001B[1;33m\u001B[0m\u001B[0m\n",
      "\u001B[1;32mc:\\users\\patri\\appdata\\local\\programs\\python\\python38\\lib\\site-packages\\pandas\\io\\stata.py\u001B[0m in \u001B[0;36mread_stata\u001B[1;34m(filepath_or_buffer, convert_dates, convert_categoricals, index_col, convert_missing, preserve_dtypes, columns, order_categoricals, chunksize, iterator)\u001B[0m\n\u001B[0;32m   1912\u001B[0m ) -> Union[DataFrame, StataReader]:\n\u001B[0;32m   1913\u001B[0m \u001B[1;33m\u001B[0m\u001B[0m\n\u001B[1;32m-> 1914\u001B[1;33m     reader = StataReader(\n\u001B[0m\u001B[0;32m   1915\u001B[0m         \u001B[0mfilepath_or_buffer\u001B[0m\u001B[1;33m,\u001B[0m\u001B[1;33m\u001B[0m\u001B[1;33m\u001B[0m\u001B[0m\n\u001B[0;32m   1916\u001B[0m         \u001B[0mconvert_dates\u001B[0m\u001B[1;33m=\u001B[0m\u001B[0mconvert_dates\u001B[0m\u001B[1;33m,\u001B[0m\u001B[1;33m\u001B[0m\u001B[1;33m\u001B[0m\u001B[0m\n",
      "\u001B[1;32mc:\\users\\patri\\appdata\\local\\programs\\python\\python38\\lib\\site-packages\\pandas\\io\\stata.py\u001B[0m in \u001B[0;36m__init__\u001B[1;34m(self, path_or_buf, convert_dates, convert_categoricals, index_col, convert_missing, preserve_dtypes, columns, order_categoricals, chunksize)\u001B[0m\n\u001B[0;32m   1079\u001B[0m             \u001B[0mself\u001B[0m\u001B[1;33m.\u001B[0m\u001B[0mpath_or_buf\u001B[0m \u001B[1;33m=\u001B[0m \u001B[0mBytesIO\u001B[0m\u001B[1;33m(\u001B[0m\u001B[0mcontents\u001B[0m\u001B[1;33m)\u001B[0m\u001B[1;33m\u001B[0m\u001B[1;33m\u001B[0m\u001B[0m\n\u001B[0;32m   1080\u001B[0m \u001B[1;33m\u001B[0m\u001B[0m\n\u001B[1;32m-> 1081\u001B[1;33m         \u001B[0mself\u001B[0m\u001B[1;33m.\u001B[0m\u001B[0m_read_header\u001B[0m\u001B[1;33m(\u001B[0m\u001B[1;33m)\u001B[0m\u001B[1;33m\u001B[0m\u001B[1;33m\u001B[0m\u001B[0m\n\u001B[0m\u001B[0;32m   1082\u001B[0m         \u001B[0mself\u001B[0m\u001B[1;33m.\u001B[0m\u001B[0m_setup_dtype\u001B[0m\u001B[1;33m(\u001B[0m\u001B[1;33m)\u001B[0m\u001B[1;33m\u001B[0m\u001B[1;33m\u001B[0m\u001B[0m\n\u001B[0;32m   1083\u001B[0m \u001B[1;33m\u001B[0m\u001B[0m\n",
      "\u001B[1;32mc:\\users\\patri\\appdata\\local\\programs\\python\\python38\\lib\\site-packages\\pandas\\io\\stata.py\u001B[0m in \u001B[0;36m_read_header\u001B[1;34m(self)\u001B[0m\n\u001B[0;32m   1111\u001B[0m             \u001B[0mself\u001B[0m\u001B[1;33m.\u001B[0m\u001B[0m_read_new_header\u001B[0m\u001B[1;33m(\u001B[0m\u001B[1;33m)\u001B[0m\u001B[1;33m\u001B[0m\u001B[1;33m\u001B[0m\u001B[0m\n\u001B[0;32m   1112\u001B[0m         \u001B[1;32melse\u001B[0m\u001B[1;33m:\u001B[0m\u001B[1;33m\u001B[0m\u001B[1;33m\u001B[0m\u001B[0m\n\u001B[1;32m-> 1113\u001B[1;33m             \u001B[0mself\u001B[0m\u001B[1;33m.\u001B[0m\u001B[0m_read_old_header\u001B[0m\u001B[1;33m(\u001B[0m\u001B[0mfirst_char\u001B[0m\u001B[1;33m)\u001B[0m\u001B[1;33m\u001B[0m\u001B[1;33m\u001B[0m\u001B[0m\n\u001B[0m\u001B[0;32m   1114\u001B[0m \u001B[1;33m\u001B[0m\u001B[0m\n\u001B[0;32m   1115\u001B[0m         \u001B[0mself\u001B[0m\u001B[1;33m.\u001B[0m\u001B[0mhas_string_data\u001B[0m \u001B[1;33m=\u001B[0m \u001B[0mlen\u001B[0m\u001B[1;33m(\u001B[0m\u001B[1;33m[\u001B[0m\u001B[0mx\u001B[0m \u001B[1;32mfor\u001B[0m \u001B[0mx\u001B[0m \u001B[1;32min\u001B[0m \u001B[0mself\u001B[0m\u001B[1;33m.\u001B[0m\u001B[0mtyplist\u001B[0m \u001B[1;32mif\u001B[0m \u001B[0mtype\u001B[0m\u001B[1;33m(\u001B[0m\u001B[0mx\u001B[0m\u001B[1;33m)\u001B[0m \u001B[1;32mis\u001B[0m \u001B[0mint\u001B[0m\u001B[1;33m]\u001B[0m\u001B[1;33m)\u001B[0m \u001B[1;33m>\u001B[0m \u001B[1;36m0\u001B[0m\u001B[1;33m\u001B[0m\u001B[1;33m\u001B[0m\u001B[0m\n",
      "\u001B[1;32mc:\\users\\patri\\appdata\\local\\programs\\python\\python38\\lib\\site-packages\\pandas\\io\\stata.py\u001B[0m in \u001B[0;36m_read_old_header\u001B[1;34m(self, first_char)\u001B[0m\n\u001B[0;32m   1315\u001B[0m         \u001B[0mself\u001B[0m\u001B[1;33m.\u001B[0m\u001B[0mformat_version\u001B[0m \u001B[1;33m=\u001B[0m \u001B[0mstruct\u001B[0m\u001B[1;33m.\u001B[0m\u001B[0munpack\u001B[0m\u001B[1;33m(\u001B[0m\u001B[1;34m\"b\"\u001B[0m\u001B[1;33m,\u001B[0m \u001B[0mfirst_char\u001B[0m\u001B[1;33m)\u001B[0m\u001B[1;33m[\u001B[0m\u001B[1;36m0\u001B[0m\u001B[1;33m]\u001B[0m\u001B[1;33m\u001B[0m\u001B[1;33m\u001B[0m\u001B[0m\n\u001B[0;32m   1316\u001B[0m         \u001B[1;32mif\u001B[0m \u001B[0mself\u001B[0m\u001B[1;33m.\u001B[0m\u001B[0mformat_version\u001B[0m \u001B[1;32mnot\u001B[0m \u001B[1;32min\u001B[0m \u001B[1;33m[\u001B[0m\u001B[1;36m104\u001B[0m\u001B[1;33m,\u001B[0m \u001B[1;36m105\u001B[0m\u001B[1;33m,\u001B[0m \u001B[1;36m108\u001B[0m\u001B[1;33m,\u001B[0m \u001B[1;36m111\u001B[0m\u001B[1;33m,\u001B[0m \u001B[1;36m113\u001B[0m\u001B[1;33m,\u001B[0m \u001B[1;36m114\u001B[0m\u001B[1;33m,\u001B[0m \u001B[1;36m115\u001B[0m\u001B[1;33m]\u001B[0m\u001B[1;33m:\u001B[0m\u001B[1;33m\u001B[0m\u001B[1;33m\u001B[0m\u001B[0m\n\u001B[1;32m-> 1317\u001B[1;33m             \u001B[1;32mraise\u001B[0m \u001B[0mValueError\u001B[0m\u001B[1;33m(\u001B[0m\u001B[0m_version_error\u001B[0m\u001B[1;33m.\u001B[0m\u001B[0mformat\u001B[0m\u001B[1;33m(\u001B[0m\u001B[0mversion\u001B[0m\u001B[1;33m=\u001B[0m\u001B[0mself\u001B[0m\u001B[1;33m.\u001B[0m\u001B[0mformat_version\u001B[0m\u001B[1;33m)\u001B[0m\u001B[1;33m)\u001B[0m\u001B[1;33m\u001B[0m\u001B[1;33m\u001B[0m\u001B[0m\n\u001B[0m\u001B[0;32m   1318\u001B[0m         \u001B[0mself\u001B[0m\u001B[1;33m.\u001B[0m\u001B[0m_set_encoding\u001B[0m\u001B[1;33m(\u001B[0m\u001B[1;33m)\u001B[0m\u001B[1;33m\u001B[0m\u001B[1;33m\u001B[0m\u001B[0m\n\u001B[0;32m   1319\u001B[0m         self.byteorder = (\n",
      "\u001B[1;31mValueError\u001B[0m: Version of given Stata file is 10. pandas supports importing versions 105, 108, 111 (Stata 7SE), 113 (Stata 8/9), 114 (Stata 10/11), 115 (Stata 12), 117 (Stata 13), 118 (Stata 14/15/16),and 119 (Stata 15/16, over 32,767 variables)."
     ]
    }
   ],
   "source": [
    "df = pd.read_stata(\"https://github.com/Bauer22/Intro-To-Econometrics-In-Python/blob/main/Datasets/Lab1.dta\")\n",
    "df"
   ]
  },
  {
   "cell_type": "markdown",
   "source": [
    "# Generating a New Column Variable\n",
    "\n",
    "In the context of dataframe we need to add an entire new column to have a similar functionality to\n",
    "variables in Stata. In the context this is referred to as a column or a label.\n",
    "\n",
    "To create a new label, you simply need to use the syntax: datafram[\"Label\"] and set it equal to something.\n",
    "\n",
    "In this case lets create a label that represents the percent of classes a student attended.\n",
    "\n",
    "From the df command, you can scroll to the right and see that there is a new column."
   ],
   "metadata": {
    "collapsed": false
   }
  },
  {
   "cell_type": "code",
   "execution_count": null,
   "metadata": {},
   "outputs": [],
   "source": [
    "# Create a new column with label attendenceRate\n",
    "# df.attend allows us to access the column with the label \"attend\"\n",
    "df['attendenceRate'] = (df.attend/32) *100\n",
    "df"
   ]
  },
  {
   "cell_type": "markdown",
   "source": [
    "# Summary Statistics\n",
    "\n",
    "This is a little different in python than in stata. The .describe() function will give you most of\n",
    "the same information as stata.\n",
    "\n",
    "If you need any other information you can quickly look it up on google. As you will see for correlation, the\n",
    "naming conventions are pretty intuitive."
   ],
   "metadata": {
    "collapsed": false
   }
  },
  {
   "cell_type": "code",
   "execution_count": null,
   "metadata": {},
   "outputs": [],
   "source": [
    "df['attendenceRate'].describe()"
   ]
  },
  {
   "cell_type": "markdown",
   "source": [
    "So now lets find the correlation. df.corr() will print all the correlations.\n",
    "\n",
    "We can also calculate a specific correlation by selecting two columns as seen below"
   ],
   "metadata": {
    "collapsed": false
   }
  },
  {
   "cell_type": "code",
   "execution_count": null,
   "metadata": {},
   "outputs": [],
   "source": [
    "df.corr()"
   ]
  },
  {
   "cell_type": "code",
   "execution_count": null,
   "metadata": {},
   "outputs": [],
   "source": [
    "df['attendenceRate'].corr(df['final'])"
   ]
  },
  {
   "cell_type": "markdown",
   "source": [
    "Covariance is very similar as seen below."
   ],
   "metadata": {
    "collapsed": false
   }
  },
  {
   "cell_type": "code",
   "execution_count": null,
   "metadata": {},
   "outputs": [],
   "source": [
    "\n",
    "df.cov()"
   ]
  },
  {
   "cell_type": "code",
   "execution_count": null,
   "metadata": {},
   "outputs": [],
   "source": [
    "df['attendenceRate'].cov(df['final'])\n"
   ]
  },
  {
   "cell_type": "markdown",
   "source": [
    "# Graphing\n",
    "\n",
    "## Histogram\n",
    "For graphing in python, we will be using matplotlib.\n",
    "\n",
    "You will probably be able to copy and paste the code from these labs and change the parameters as needed.\n",
    "\n",
    "I have commented the below code for your understanding"
   ],
   "metadata": {
    "collapsed": false
   }
  },
  {
   "cell_type": "code",
   "execution_count": null,
   "metadata": {},
   "outputs": [],
   "source": [
    "#Find the mean and standard deviation for the values in the label final\n",
    "mu, std = norm.fit(df['final'])\n",
    "#Create and define the graphs parameters\n",
    "plt.hist(df['final'], bins=20, density=True, alpha=0.6, color='g', edgecolor = 'black')\n",
    "# Create bounds for the x by finding the min and max\n",
    "xmin, xmax = plt.xlim()\n",
    "# Create a nice x axis label by making a line between the bounds, spaced by 100\n",
    "x = np.linspace(xmin, xmax, 100)\n",
    "# Create a normal distribution line\n",
    "p = norm.pdf(x, mu, std)\n",
    "# Plot the graph with all of the things we generated above\n",
    "plt.plot(x, p, 'black', linewidth=2)\n",
    "# Actually print the graph\n",
    "plt.show()\n",
    "\n",
    "\n"
   ]
  }
 ],
 "metadata": {
  "kernelspec": {
   "display_name": "Python 3",
   "language": "python",
   "name": "python3"
  },
  "language_info": {
   "codemirror_mode": {
    "name": "ipython",
    "version": 3
   },
   "file_extension": ".py",
   "mimetype": "text/x-python",
   "name": "python",
   "nbconvert_exporter": "python",
   "pygments_lexer": "ipython3",
   "version": "3.7.6"
  }
 },
 "nbformat": 4,
 "nbformat_minor": 4
}
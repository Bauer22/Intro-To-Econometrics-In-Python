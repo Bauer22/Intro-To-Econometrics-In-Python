{
 "cells": [
  {
   "cell_type": "markdown",
   "metadata": {},
   "source": [
    "# Tutorial 3: Chapter 2\n",
    "\n",
    "##Goals:\n",
    "\n",
    "The goals for the this lab are to use real data to explore important concepts in Chapter 2 of Wooldridge using real\n",
    "data. In this lab we will explore concepts related to:\n",
    "\n",
    "\n",
    "• Estimates and Estimators with ordinary lease squares\n",
    "\n",
    "• Sampling Distribution\n",
    "\n",
    "• Residuals and Fitted Values\n",
    "\n",
    "##Basics\n",
    "\n",
    "1. Always include your import statements. Remember that you can add to the import statements at any time,\n",
    " as long as you rerun your code after. As always, copy and pasting what is inside these notebooks will\n",
    " suffice."
   ]
  },
  {
   "cell_type": "code",
   "execution_count": 236,
   "metadata": {},
   "outputs": [],
   "source": [
    "import pandas as pd\n",
    "import numpy as np\n",
    "import matplotlib.pyplot as plt\n",
    "from scipy import stats\n",
    "from IPython.display import Image"
   ]
  },
  {
   "cell_type": "markdown",
   "metadata": {},
   "source": [
    "2. For this lab we will be using the data from the National Longitudinal Survey - J. R. Kling (2001) “Interpreting\n",
    "Instrumental Variables Estimates of the Return to Schooling,” Journal of Business and Economic Statistics,\n",
    "19, 358-364. This dataset contains a random sample of data on wages, education, location as well as many\n",
    "control variables. There are two files associated with this dataset: “Data66.dat” and “Data66.dct”.\n",
    "\n",
    "I complied them in Stata into Tutorial3.dta it is in the github repo\n",
    "\n",
    "2. Lets take a look at the data. N"
   ]
  },
  {
   "cell_type": "code",
   "execution_count": 237,
   "metadata": {},
   "outputs": [
    {
     "data": {
      "text/html": [
       "<div>\n",
       "<style scoped>\n",
       "    .dataframe tbody tr th:only-of-type {\n",
       "        vertical-align: middle;\n",
       "    }\n",
       "\n",
       "    .dataframe tbody tr th {\n",
       "        vertical-align: top;\n",
       "    }\n",
       "\n",
       "    .dataframe thead th {\n",
       "        text-align: right;\n",
       "    }\n",
       "</style>\n",
       "<table border=\"1\" class=\"dataframe\">\n",
       "  <thead>\n",
       "    <tr style=\"text-align: right;\">\n",
       "      <th></th>\n",
       "      <th>id</th>\n",
       "      <th>black</th>\n",
       "      <th>imigrnt</th>\n",
       "      <th>hhead</th>\n",
       "      <th>mag_14</th>\n",
       "      <th>news_14</th>\n",
       "      <th>lib_14</th>\n",
       "      <th>num_sib</th>\n",
       "      <th>fgrade</th>\n",
       "      <th>mgrade</th>\n",
       "      <th>...</th>\n",
       "      <th>intmo66</th>\n",
       "      <th>nlsflt</th>\n",
       "      <th>nsib</th>\n",
       "      <th>ns1</th>\n",
       "      <th>ns2</th>\n",
       "      <th>ns3</th>\n",
       "      <th>ns4</th>\n",
       "      <th>ns5</th>\n",
       "      <th>ns6</th>\n",
       "      <th>ns7</th>\n",
       "    </tr>\n",
       "  </thead>\n",
       "  <tbody>\n",
       "    <tr>\n",
       "      <th>0</th>\n",
       "      <td>1.0</td>\n",
       "      <td>1.0</td>\n",
       "      <td>0.0</td>\n",
       "      <td>5.0</td>\n",
       "      <td>1.0</td>\n",
       "      <td>1.0</td>\n",
       "      <td>1.0</td>\n",
       "      <td>1.0</td>\n",
       "      <td>NaN</td>\n",
       "      <td>11.0</td>\n",
       "      <td>...</td>\n",
       "      <td>11.0</td>\n",
       "      <td>1.0</td>\n",
       "      <td>0.0</td>\n",
       "      <td>1.0</td>\n",
       "      <td>0.0</td>\n",
       "      <td>0.0</td>\n",
       "      <td>0.0</td>\n",
       "      <td>0.0</td>\n",
       "      <td>0.0</td>\n",
       "      <td>0.0</td>\n",
       "    </tr>\n",
       "    <tr>\n",
       "      <th>1</th>\n",
       "      <td>2.0</td>\n",
       "      <td>1.0</td>\n",
       "      <td>0.0</td>\n",
       "      <td>1.0</td>\n",
       "      <td>0.0</td>\n",
       "      <td>1.0</td>\n",
       "      <td>0.0</td>\n",
       "      <td>7.0</td>\n",
       "      <td>NaN</td>\n",
       "      <td>NaN</td>\n",
       "      <td>...</td>\n",
       "      <td>11.0</td>\n",
       "      <td>1.0</td>\n",
       "      <td>6.0</td>\n",
       "      <td>0.0</td>\n",
       "      <td>0.0</td>\n",
       "      <td>0.0</td>\n",
       "      <td>0.0</td>\n",
       "      <td>1.0</td>\n",
       "      <td>0.0</td>\n",
       "      <td>0.0</td>\n",
       "    </tr>\n",
       "    <tr>\n",
       "      <th>2</th>\n",
       "      <td>3.0</td>\n",
       "      <td>0.0</td>\n",
       "      <td>0.0</td>\n",
       "      <td>1.0</td>\n",
       "      <td>1.0</td>\n",
       "      <td>1.0</td>\n",
       "      <td>1.0</td>\n",
       "      <td>1.0</td>\n",
       "      <td>8.0</td>\n",
       "      <td>8.0</td>\n",
       "      <td>...</td>\n",
       "      <td>11.0</td>\n",
       "      <td>1.0</td>\n",
       "      <td>0.0</td>\n",
       "      <td>1.0</td>\n",
       "      <td>0.0</td>\n",
       "      <td>0.0</td>\n",
       "      <td>0.0</td>\n",
       "      <td>0.0</td>\n",
       "      <td>0.0</td>\n",
       "      <td>0.0</td>\n",
       "    </tr>\n",
       "    <tr>\n",
       "      <th>3</th>\n",
       "      <td>4.0</td>\n",
       "      <td>0.0</td>\n",
       "      <td>0.0</td>\n",
       "      <td>1.0</td>\n",
       "      <td>1.0</td>\n",
       "      <td>1.0</td>\n",
       "      <td>1.0</td>\n",
       "      <td>2.0</td>\n",
       "      <td>14.0</td>\n",
       "      <td>12.0</td>\n",
       "      <td>...</td>\n",
       "      <td>11.0</td>\n",
       "      <td>1.0</td>\n",
       "      <td>2.0</td>\n",
       "      <td>0.0</td>\n",
       "      <td>1.0</td>\n",
       "      <td>0.0</td>\n",
       "      <td>0.0</td>\n",
       "      <td>0.0</td>\n",
       "      <td>0.0</td>\n",
       "      <td>0.0</td>\n",
       "    </tr>\n",
       "    <tr>\n",
       "      <th>4</th>\n",
       "      <td>5.0</td>\n",
       "      <td>0.0</td>\n",
       "      <td>0.0</td>\n",
       "      <td>1.0</td>\n",
       "      <td>0.0</td>\n",
       "      <td>1.0</td>\n",
       "      <td>1.0</td>\n",
       "      <td>NaN</td>\n",
       "      <td>11.0</td>\n",
       "      <td>12.0</td>\n",
       "      <td>...</td>\n",
       "      <td>11.0</td>\n",
       "      <td>1.0</td>\n",
       "      <td>3.0</td>\n",
       "      <td>0.0</td>\n",
       "      <td>0.0</td>\n",
       "      <td>1.0</td>\n",
       "      <td>0.0</td>\n",
       "      <td>0.0</td>\n",
       "      <td>0.0</td>\n",
       "      <td>0.0</td>\n",
       "    </tr>\n",
       "    <tr>\n",
       "      <th>...</th>\n",
       "      <td>...</td>\n",
       "      <td>...</td>\n",
       "      <td>...</td>\n",
       "      <td>...</td>\n",
       "      <td>...</td>\n",
       "      <td>...</td>\n",
       "      <td>...</td>\n",
       "      <td>...</td>\n",
       "      <td>...</td>\n",
       "      <td>...</td>\n",
       "      <td>...</td>\n",
       "      <td>...</td>\n",
       "      <td>...</td>\n",
       "      <td>...</td>\n",
       "      <td>...</td>\n",
       "      <td>...</td>\n",
       "      <td>...</td>\n",
       "      <td>...</td>\n",
       "      <td>...</td>\n",
       "      <td>...</td>\n",
       "      <td>...</td>\n",
       "    </tr>\n",
       "    <tr>\n",
       "      <th>5221</th>\n",
       "      <td>5222.0</td>\n",
       "      <td>0.0</td>\n",
       "      <td>0.0</td>\n",
       "      <td>2.0</td>\n",
       "      <td>0.0</td>\n",
       "      <td>1.0</td>\n",
       "      <td>0.0</td>\n",
       "      <td>2.0</td>\n",
       "      <td>6.0</td>\n",
       "      <td>8.0</td>\n",
       "      <td>...</td>\n",
       "      <td>11.0</td>\n",
       "      <td>1.0</td>\n",
       "      <td>2.0</td>\n",
       "      <td>0.0</td>\n",
       "      <td>1.0</td>\n",
       "      <td>0.0</td>\n",
       "      <td>0.0</td>\n",
       "      <td>0.0</td>\n",
       "      <td>0.0</td>\n",
       "      <td>0.0</td>\n",
       "    </tr>\n",
       "    <tr>\n",
       "      <th>5222</th>\n",
       "      <td>5223.0</td>\n",
       "      <td>1.0</td>\n",
       "      <td>0.0</td>\n",
       "      <td>1.0</td>\n",
       "      <td>1.0</td>\n",
       "      <td>0.0</td>\n",
       "      <td>0.0</td>\n",
       "      <td>9.0</td>\n",
       "      <td>3.0</td>\n",
       "      <td>2.0</td>\n",
       "      <td>...</td>\n",
       "      <td>11.0</td>\n",
       "      <td>1.0</td>\n",
       "      <td>9.0</td>\n",
       "      <td>0.0</td>\n",
       "      <td>0.0</td>\n",
       "      <td>0.0</td>\n",
       "      <td>0.0</td>\n",
       "      <td>0.0</td>\n",
       "      <td>1.0</td>\n",
       "      <td>0.0</td>\n",
       "    </tr>\n",
       "    <tr>\n",
       "      <th>5223</th>\n",
       "      <td>5224.0</td>\n",
       "      <td>1.0</td>\n",
       "      <td>0.0</td>\n",
       "      <td>1.0</td>\n",
       "      <td>0.0</td>\n",
       "      <td>0.0</td>\n",
       "      <td>0.0</td>\n",
       "      <td>6.0</td>\n",
       "      <td>0.0</td>\n",
       "      <td>6.0</td>\n",
       "      <td>...</td>\n",
       "      <td>11.0</td>\n",
       "      <td>1.0</td>\n",
       "      <td>6.0</td>\n",
       "      <td>0.0</td>\n",
       "      <td>0.0</td>\n",
       "      <td>0.0</td>\n",
       "      <td>0.0</td>\n",
       "      <td>1.0</td>\n",
       "      <td>0.0</td>\n",
       "      <td>0.0</td>\n",
       "    </tr>\n",
       "    <tr>\n",
       "      <th>5224</th>\n",
       "      <td>5225.0</td>\n",
       "      <td>1.0</td>\n",
       "      <td>0.0</td>\n",
       "      <td>6.0</td>\n",
       "      <td>0.0</td>\n",
       "      <td>0.0</td>\n",
       "      <td>0.0</td>\n",
       "      <td>6.0</td>\n",
       "      <td>NaN</td>\n",
       "      <td>NaN</td>\n",
       "      <td>...</td>\n",
       "      <td>11.0</td>\n",
       "      <td>1.0</td>\n",
       "      <td>6.0</td>\n",
       "      <td>0.0</td>\n",
       "      <td>0.0</td>\n",
       "      <td>0.0</td>\n",
       "      <td>0.0</td>\n",
       "      <td>1.0</td>\n",
       "      <td>0.0</td>\n",
       "      <td>0.0</td>\n",
       "    </tr>\n",
       "    <tr>\n",
       "      <th>5225</th>\n",
       "      <td>NaN</td>\n",
       "      <td>NaN</td>\n",
       "      <td>NaN</td>\n",
       "      <td>NaN</td>\n",
       "      <td>NaN</td>\n",
       "      <td>NaN</td>\n",
       "      <td>NaN</td>\n",
       "      <td>NaN</td>\n",
       "      <td>NaN</td>\n",
       "      <td>NaN</td>\n",
       "      <td>...</td>\n",
       "      <td>NaN</td>\n",
       "      <td>NaN</td>\n",
       "      <td>NaN</td>\n",
       "      <td>NaN</td>\n",
       "      <td>NaN</td>\n",
       "      <td>NaN</td>\n",
       "      <td>NaN</td>\n",
       "      <td>NaN</td>\n",
       "      <td>NaN</td>\n",
       "      <td>NaN</td>\n",
       "    </tr>\n",
       "  </tbody>\n",
       "</table>\n",
       "<p>5226 rows × 101 columns</p>\n",
       "</div>"
      ],
      "text/plain": [
       "          id  black  imigrnt  hhead  mag_14  news_14  lib_14  num_sib  fgrade  \\\n",
       "0        1.0    1.0      0.0    5.0     1.0      1.0     1.0      1.0     NaN   \n",
       "1        2.0    1.0      0.0    1.0     0.0      1.0     0.0      7.0     NaN   \n",
       "2        3.0    0.0      0.0    1.0     1.0      1.0     1.0      1.0     8.0   \n",
       "3        4.0    0.0      0.0    1.0     1.0      1.0     1.0      2.0    14.0   \n",
       "4        5.0    0.0      0.0    1.0     0.0      1.0     1.0      NaN    11.0   \n",
       "...      ...    ...      ...    ...     ...      ...     ...      ...     ...   \n",
       "5221  5222.0    0.0      0.0    2.0     0.0      1.0     0.0      2.0     6.0   \n",
       "5222  5223.0    1.0      0.0    1.0     1.0      0.0     0.0      9.0     3.0   \n",
       "5223  5224.0    1.0      0.0    1.0     0.0      0.0     0.0      6.0     0.0   \n",
       "5224  5225.0    1.0      0.0    6.0     0.0      0.0     0.0      6.0     NaN   \n",
       "5225     NaN    NaN      NaN    NaN     NaN      NaN     NaN      NaN     NaN   \n",
       "\n",
       "      mgrade  ...  intmo66  nlsflt  nsib  ns1  ns2  ns3  ns4  ns5  ns6  ns7  \n",
       "0       11.0  ...     11.0     1.0   0.0  1.0  0.0  0.0  0.0  0.0  0.0  0.0  \n",
       "1        NaN  ...     11.0     1.0   6.0  0.0  0.0  0.0  0.0  1.0  0.0  0.0  \n",
       "2        8.0  ...     11.0     1.0   0.0  1.0  0.0  0.0  0.0  0.0  0.0  0.0  \n",
       "3       12.0  ...     11.0     1.0   2.0  0.0  1.0  0.0  0.0  0.0  0.0  0.0  \n",
       "4       12.0  ...     11.0     1.0   3.0  0.0  0.0  1.0  0.0  0.0  0.0  0.0  \n",
       "...      ...  ...      ...     ...   ...  ...  ...  ...  ...  ...  ...  ...  \n",
       "5221     8.0  ...     11.0     1.0   2.0  0.0  1.0  0.0  0.0  0.0  0.0  0.0  \n",
       "5222     2.0  ...     11.0     1.0   9.0  0.0  0.0  0.0  0.0  0.0  1.0  0.0  \n",
       "5223     6.0  ...     11.0     1.0   6.0  0.0  0.0  0.0  0.0  1.0  0.0  0.0  \n",
       "5224     NaN  ...     11.0     1.0   6.0  0.0  0.0  0.0  0.0  1.0  0.0  0.0  \n",
       "5225     NaN  ...      NaN     NaN   NaN  NaN  NaN  NaN  NaN  NaN  NaN  NaN  \n",
       "\n",
       "[5226 rows x 101 columns]"
      ]
     },
     "execution_count": 237,
     "metadata": {},
     "output_type": "execute_result"
    }
   ],
   "source": [
    "df = pd.read_stata(\"C:/Users/patri/Desktop/Metrics TA/Intro-To-Econometrics-In-Python/Datasets/Tutorial3.dta\")\n",
    "df"
   ]
  },
  {
   "cell_type": "markdown",
   "metadata": {},
   "source": [
    "Note that there are so many columns that we cannot see all of the column names when we preview. We can change our default\n",
    "preivews by adding\n",
    "\n",
    "pd.set_option('display.max_columns', None)\n",
    "pd.set_option('display.max_rows', None)\n"
   ]
  },
  {
   "cell_type": "markdown",
   "metadata": {},
   "source": [
    "Or you can just print all the column names"
   ]
  },
  {
   "cell_type": "code",
   "execution_count": 238,
   "metadata": {
    "pycharm": {
     "name": "#%%\n"
    }
   },
   "outputs": [
    {
     "name": "stdout",
     "output_type": "stream",
     "text": [
      "id\n",
      "black\n",
      "imigrnt\n",
      "hhead\n",
      "mag_14\n",
      "news_14\n",
      "lib_14\n",
      "num_sib\n",
      "fgrade\n",
      "mgrade\n",
      "iq\n",
      "bdate\n",
      "gfill76\n",
      "wt76\n",
      "grade76\n",
      "grade66\n",
      "age66\n",
      "smsa66\n",
      "region\n",
      "smsa76\n",
      "col4\n",
      "mcol4\n",
      "col4pub\n",
      "south76\n",
      "wage76\n",
      "exp76\n",
      "expsq76\n",
      "age76\n",
      "agesq76\n",
      "reg1\n",
      "reg2\n",
      "reg3\n",
      "reg4\n",
      "reg5\n",
      "reg6\n",
      "reg7\n",
      "reg8\n",
      "reg9\n",
      "momdad14\n",
      "sinmom14\n",
      "nodaded\n",
      "nomomed\n",
      "daded\n",
      "momed\n",
      "famed\n",
      "famed1\n",
      "famed2\n",
      "famed3\n",
      "famed4\n",
      "famed5\n",
      "famed6\n",
      "famed7\n",
      "famed8\n",
      "famed9\n",
      "int76\n",
      "age1415\n",
      "age1617\n",
      "age1819\n",
      "age2021\n",
      "age2224\n",
      "cage1415\n",
      "cage1617\n",
      "cage1819\n",
      "cage2021\n",
      "cage2224\n",
      "cage66\n",
      "a1\n",
      "a2\n",
      "a3\n",
      "a4\n",
      "a5\n",
      "a6\n",
      "a7\n",
      "a8\n",
      "a9\n",
      "a10\n",
      "a11\n",
      "ca1\n",
      "ca2\n",
      "ca3\n",
      "ca4\n",
      "ca5\n",
      "ca6\n",
      "ca7\n",
      "ca8\n",
      "ca9\n",
      "ca10\n",
      "ca11\n",
      "ca12\n",
      "g25\n",
      "g25i\n",
      "intmo66\n",
      "nlsflt\n",
      "nsib\n",
      "ns1\n",
      "ns2\n",
      "ns3\n",
      "ns4\n",
      "ns5\n",
      "ns6\n",
      "ns7\n"
     ]
    }
   ],
   "source": [
    "for col in df.columns:\n",
    "    print(col)"
   ]
  },
  {
   "cell_type": "markdown",
   "metadata": {},
   "source": [
    "3. Often times datasets are missing information, or you want to concentrate on a sample of individuals where\n",
    "information is available for all variables you are interested in. In these cases it is necessary to “clean” the\n",
    "dataset to get it ready for analysis. You’ll want to “drop” observations that are missing key variables, or\n",
    "simply “keep” the observations that have all the information needed. Lets drop observations which have\n",
    "missing values for education, wage or who were not at the first interview.\n",
    "\n",
    "There are many ways to do this, including built in functions\n",
    "\n",
    "First to access a column and delete rows based on a conditional we can use"
   ]
  },
  {
   "cell_type": "code",
   "execution_count": 239,
   "metadata": {
    "pycharm": {
     "name": "#%%\n"
    }
   },
   "outputs": [],
   "source": [
    "df = df[df.nlsflt != 0]\n"
   ]
  },
  {
   "cell_type": "markdown",
   "metadata": {},
   "source": [
    "In this case however I will use built in functions.\n",
    "\n",
    "df.dropna will drop any none types"
   ]
  },
  {
   "cell_type": "code",
   "execution_count": 240,
   "metadata": {
    "pycharm": {
     "name": "#%%\n"
    }
   },
   "outputs": [],
   "source": [
    "df = df.dropna(subset=['grade76','wage76','nlsflt'])\n"
   ]
  },
  {
   "cell_type": "markdown",
   "metadata": {},
   "source": [
    "##Estimates, Estimators, and Hypothesis Testing\n",
    "\n",
    "1. We are interested in the relationship between(hourly) wages (wage76) and years of education (grade76). Lets\n",
    "first calculate the summary statistics of these two variables using the .describe function we learned from a prior lab."
   ]
  },
  {
   "cell_type": "code",
   "execution_count": 241,
   "metadata": {
    "pycharm": {
     "name": "#%%\n"
    }
   },
   "outputs": [
    {
     "name": "stdout",
     "output_type": "stream",
     "text": [
      "wages:\n",
      " count    3010.000000\n",
      "mean        1.656664\n",
      "std         0.443798\n",
      "min         0.000000\n",
      "25%         1.371825\n",
      "50%         1.681750\n",
      "75%         1.958350\n",
      "max         3.179700\n",
      "Name: wage76, dtype: float64 \n",
      "\n",
      "grades:\n",
      " count    3010.000000\n",
      "mean       13.263455\n",
      "std         2.676913\n",
      "min         1.000000\n",
      "25%        12.000000\n",
      "50%        13.000000\n",
      "75%        16.000000\n",
      "max        18.000000\n",
      "Name: grade76, dtype: float64\n"
     ]
    }
   ],
   "source": [
    "#\\n prints on a new line\n",
    "print(\"wages:\\n\",df['wage76'].describe(), '\\n')\n",
    "\n",
    "print(\"grades:\\n\",df['grade76'].describe())"
   ]
  },
  {
   "cell_type": "markdown",
   "metadata": {},
   "source": [
    "Looking at these statistics we see that there are 3010 observations left in our sample after dropping the\n",
    "observations above. The average person in our sample has 13 years of education, with the largest value being\n",
    "18, and perhaps surprisingly a person in our sample reports having just one year of education. Turning to\n",
    "wages we see that average earning in our sample is approx. $1.65 an hour, with the highest hourly wage\n",
    "being over $3.17, and the lowest reporting receiving $0 an hour.\n",
    "\n",
    "\n",
    "2. To get an initial understanding of the relationship between wages and education we can calculate the\n",
    "correlation as well as the covariance between these two variables"
   ]
  },
  {
   "cell_type": "code",
   "execution_count": 242,
   "metadata": {
    "pycharm": {
     "name": "#%%\n"
    }
   },
   "outputs": [
    {
     "data": {
      "text/plain": [
       "0.31422552838961576"
      ]
     },
     "execution_count": 242,
     "metadata": {},
     "output_type": "execute_result"
    }
   ],
   "source": [
    "#As we learned in the first tutorial:\n",
    "df['wage76'].corr(df['grade76'])"
   ]
  },
  {
   "cell_type": "code",
   "execution_count": 243,
   "metadata": {
    "pycharm": {
     "name": "#%%\n"
    }
   },
   "outputs": [
    {
     "data": {
      "text/plain": [
       "0.37330262484722054"
      ]
     },
     "execution_count": 243,
     "metadata": {},
     "output_type": "execute_result"
    }
   ],
   "source": [
    "df['wage76'].cov(df['grade76'])"
   ]
  },
  {
   "cell_type": "markdown",
   "metadata": {},
   "source": [
    "A positive correlation between these two variables would indicate that wages are high when education levels\n",
    "are high (and vice versa). A positive covariance implies that when years of education is above the mean then\n",
    "wages are above the mean (and vice versa). Remember, this does not imply causation, it simply gives us an\n",
    "idea about the relationship between levels of education and wage levels.\n",
    "\n",
    "\n",
    "3. To get a visual understanding of the relationship between the two variables, create a scatterplot where\n",
    "“wage76” is on the Y-axis and “grade76” is on the X-axis. Refer to the first tutorial if you need a refresher on\n",
    "how to create a scatter plot. The plot will look like this:"
   ]
  },
  {
   "cell_type": "code",
   "execution_count": 243,
   "metadata": {},
   "outputs": [],
   "source": []
  },
  {
   "cell_type": "markdown",
   "metadata": {
    "pycharm": {
     "name": "#%% md\n"
    }
   },
   "source": [
    "Each of the dots on the scatter plot represents one of the observation in our dataset. OLS uses a an intercept,\n",
    "βˆ\n",
    "0, and slope, βˆ\n",
    "1, to minimized the sum of the (squared) distance between each of the dots and this regression\n",
    "line. To get an idea of this relationship, we can add a linear prediction to this scatter plot."
   ]
  },
  {
   "cell_type": "code",
   "execution_count": 244,
   "metadata": {
    "pycharm": {
     "name": "#%%\n"
    }
   },
   "outputs": [
    {
     "data": {
      "image/png": "[encoded data removed]",
      "text/plain": [
       "<Figure size 432x288 with 1 Axes>"
      ]
     },
     "metadata": {
      "needs_background": "light"
     },
     "output_type": "display_data"
    }
   ],
   "source": [
    "#As before create the graph\n",
    "plt.scatter( df['grade76'], df['wage76'])\n",
    "\n",
    "#This is creating a line of best fit.\n",
    "plt.plot( np.unique(df['grade76']), np.poly1d(np.polyfit(df['grade76'], df['wage76'], 1)) (np.unique(df['grade76'])), 'k')\n",
    "\n",
    "plt.show()"
   ]
  },
  {
   "cell_type": "markdown",
   "metadata": {
    "pycharm": {
     "name": "#%% md\n"
    }
   },
   "source": [
    "A quick explaination of the line of best fit code:\n",
    "\n",
    "The plot function takes in many different parameters. The first two will always be your x and y values\n",
    "\n",
    "np.unique(df['grade76']) means that our x's are all of the unique grade76 values\n",
    "\n",
    "The y values are created in this way:\n",
    "\n",
    "np.poly1d(np.polyfit(df['grade76'], df['wage76'], 1))(np.unique(df['grade76'])\n",
    "\n",
    "Polyfit creates a least squares polynomial fit of the x and y values. The 1 is the degree of polynomial we are using.\n",
    "\n",
    "Poly1d is creating a 1d polynomial. So given 1, 2, 3 it would act as 1x^2 + 2x + 3\n",
    "\n",
    "You don't need to worry too much about how the code works since you can just copy and paste.\n"
   ]
  },
  {
   "cell_type": "markdown",
   "metadata": {
    "pycharm": {
     "name": "#%% md\n"
    }
   },
   "source": [
    "4. Next, lets run a regression to get an estimate of the relationship between schooling and wages.\n",
    "We’ll use “wage76” as our dependent variable (“Y ”), and “grade76” as our independent variable (“X1”) to\n",
    "estimate the intercept, βˆ\n",
    "0, and slope βˆ\n",
    "1 parameters.\n",
    "\n",
    "I am using the OLS from statsmodel.api since it has a very verbose summary built in. You obviously can use\n",
    "any other regression like from sklearn.linear_model import LinearRegression, but you may need to define a function\n",
    "to get all of the outputs you need."
   ]
  },
  {
   "cell_type": "code",
   "execution_count": 245,
   "metadata": {
    "pycharm": {
     "name": "#%%\n"
    }
   },
   "outputs": [
    {
     "name": "stdout",
     "output_type": "stream",
     "text": [
      "                            OLS Regression Results                            \n",
      "==============================================================================\n",
      "Dep. Variable:                 wage76   R-squared:                       0.099\n",
      "Model:                            OLS   Adj. R-squared:                  0.098\n",
      "Method:                 Least Squares   F-statistic:                     329.5\n",
      "Date:                Sat, 14 Nov 2020   Prob (F-statistic):           5.76e-70\n",
      "Time:                        16:10:19   Log-Likelihood:                -1668.8\n",
      "No. Observations:                3010   AIC:                             3342.\n",
      "Df Residuals:                    3008   BIC:                             3354.\n",
      "Df Model:                           1                                         \n",
      "Covariance Type:            nonrobust                                         \n",
      "==============================================================================\n",
      "                 coef    std err          t      P>|t|      [0.025      0.975]\n",
      "------------------------------------------------------------------------------\n",
      "const          0.9657      0.039     24.871      0.000       0.890       1.042\n",
      "x1             0.0521      0.003     18.153      0.000       0.046       0.058\n",
      "==============================================================================\n",
      "Omnibus:                       23.142   Durbin-Watson:                   1.725\n",
      "Prob(Omnibus):                  0.000   Jarque-Bera (JB):               24.349\n",
      "Skew:                          -0.186   Prob(JB):                     5.16e-06\n",
      "Kurtosis:                       3.236   Cond. No.                         68.8\n",
      "==============================================================================\n",
      "\n",
      "Notes:\n",
      "[1] Standard Errors assume that the covariance matrix of the errors is correctly specified.\n"
     ]
    }
   ],
   "source": [
    "# from sklearn.linear_model import LinearRegression\n",
    "import statsmodels.api as sm\n",
    "X = sm.add_constant(df['grade76'].ravel())\n",
    "results = sm.OLS(df['wage76'], X).fit()\n",
    "print(results.summary())\n",
    "\n",
    "\n",
    "\n"
   ]
  },
  {
   "cell_type": "markdown",
   "metadata": {},
   "source": [
    "Now lets look at the stata output for the same regression and talk about our results."
   ]
  },
  {
   "cell_type": "code",
   "execution_count": 246,
   "metadata": {
    "pycharm": {
     "name": "#%%\n"
    }
   },
   "outputs": [
    {
     "data": {
      "image/png": "[encoded data removed]",
      "text/plain": [
       "<IPython.core.display.Image object>"
      ]
     },
     "execution_count": 246,
     "metadata": {},
     "output_type": "execute_result"
    }
   ],
   "source": [
    "Image(filename = \"C:/Users/patri/Desktop/Metrics TA/Images/tut3reg.png\")"
   ]
  },
  {
   "cell_type": "markdown",
   "metadata": {},
   "source": [
    "The coefficient on “grade76” (βˆ\n",
    "1) indicates that another year of education is predicted to cause hourly wage to increase by $.05.\n",
    "\n",
    "The coefficient for the constant (βˆ0) shows the the predicted wage for someone with 0 years of education is approx. $0.97 per hour.\n",
    "\n",
    "While we probably think that the constant is not that useful in this application, remember that there were\n",
    "individuals in our sample with only one year of education.\n",
    "\n",
    "Keep in mind, we are unlikely getting the\n",
    "causal effect of a year on education as there are probably many other factors that are correlation with\n",
    "education that also influence hourly wages.\n",
    "\n",
    "The next column gives us the standard error of the parameters βˆ\n",
    "0 and βˆ1. This allows us to understand the sampling distribution of our OLS estimators, and will be extensively used going forward for\n",
    "hypothesis testing.\n",
    "The r-squared indicates that we are explaining just under 10% of the variation in hourly wages in 1976\n",
    "with years of education.\n",
    "\n",
    "Remember R2 = ESS/TSS = 1 − (SSR/TSS). We can individually see the calculation of\n",
    "ESS, SSR, SST in the top left panel of the stata results. We can see that ESS = 58.5, SSE = 534.1, SST = 592.6.\n",
    "\n",
    "We do not have this in our python output. But we can very easily get them using built in methods.\n",
    "\n",
    "If you need to find the full list of built ins for regression results with the OLS in stats model go to:\n",
    "\n",
    "https://www.statsmodels.org/stable/generated/statsmodels.regression.linear_model.RegressionResults.html"
   ]
  },
  {
   "cell_type": "code",
   "execution_count": 247,
   "metadata": {
    "pycharm": {
     "name": "#%%\n"
    }
   },
   "outputs": [
    {
     "name": "stdout",
     "output_type": "stream",
     "text": [
      "ESS:  58.516157978935325\n",
      "SSR:  534.1264577956593\n",
      "SSR:  592.6426157745947\n"
     ]
    }
   ],
   "source": [
    "print(\"ESS: \", results.ess)\n",
    "print(\"SSR: \", results.ssr)\n",
    "print(\"SST: \", results.centered_tss)"
   ]
  },
  {
   "cell_type": "markdown",
   "metadata": {},
   "source": [
    "5. Perhaps we think that a better way to think about the relationship between education and wages is that an\n",
    "increase in education causes wages to change by a certain %, rather than constant amount. To estimate this\n",
    "relationship, we should first generate a variable equal the the natural log of wages.\n",
    "\n",
    "The logical thing to do would be"
   ]
  },
  {
   "cell_type": "code",
   "execution_count": 248,
   "metadata": {
    "pycharm": {
     "name": "#%%\n"
    }
   },
   "outputs": [],
   "source": [
    "# Note that in np, log is the natural log, and log10 is base 10\n",
    "df['lnwage'] = np.log(df.wage76)"
   ]
  },
  {
   "cell_type": "markdown",
   "metadata": {},
   "source": [
    "But this gives us an error since we are trying to do ln(0)\n",
    "\n",
    "Stata automatically drops values of 0 when doing the ln calculations. We specifically need to drop the values.\n",
    "\n",
    "So you need to be very careful in your assignments when you are dropping 0's, incase you need to recalculate after.\n",
    "\n",
    "I would recommend doing a deep copy of the df and using that copy for any problem where you are dropping 0's."
   ]
  },
  {
   "cell_type": "code",
   "execution_count": 249,
   "metadata": {
    "pycharm": {
     "name": "#%%\n"
    }
   },
   "outputs": [],
   "source": [
    "# So we need to drop the 0's\n",
    "df = df[df.wage76 != 0]\n",
    "# Then create ln wage\n",
    "df['lnwage'] = np.log(df.wage76)"
   ]
  },
  {
   "cell_type": "markdown",
   "metadata": {},
   "source": [
    "6. Now we can estimate a regression with the natural log of hourly wages as our dependent variable and years\n",
    "of education as our independent variable. Follow the steps above, but use “lnwage” as as the dependent\n",
    "variable. We get the following results:"
   ]
  },
  {
   "cell_type": "code",
   "execution_count": 250,
   "metadata": {
    "pycharm": {
     "name": "#%%\n"
    }
   },
   "outputs": [
    {
     "name": "stdout",
     "output_type": "stream",
     "text": [
      "                            OLS Regression Results                            \n",
      "==============================================================================\n",
      "Dep. Variable:                 lnwage   R-squared:                       0.088\n",
      "Model:                            OLS   Adj. R-squared:                  0.087\n",
      "Method:                 Least Squares   F-statistic:                     288.9\n",
      "Date:                Sat, 14 Nov 2020   Prob (F-statistic):           6.17e-62\n",
      "Time:                        16:10:19   Log-Likelihood:                -624.04\n",
      "No. Observations:                3008   AIC:                             1252.\n",
      "Df Residuals:                    3006   BIC:                             1264.\n",
      "Df Model:                           1                                         \n",
      "Covariance Type:            nonrobust                                         \n",
      "==============================================================================\n",
      "                 coef    std err          t      P>|t|      [0.025      0.975]\n",
      "------------------------------------------------------------------------------\n",
      "const          0.0055      0.027      0.201      0.841      -0.048       0.059\n",
      "x1             0.0345      0.002     16.997      0.000       0.031       0.038\n",
      "==============================================================================\n",
      "Omnibus:                     1131.698   Durbin-Watson:                   1.768\n",
      "Prob(Omnibus):                  0.000   Jarque-Bera (JB):             7464.885\n",
      "Skew:                          -1.634   Prob(JB):                         0.00\n",
      "Kurtosis:                       9.991   Cond. No.                         68.8\n",
      "==============================================================================\n",
      "\n",
      "Notes:\n",
      "[1] Standard Errors assume that the covariance matrix of the errors is correctly specified.\n",
      "================================================================================\n",
      "ESS:  25.63088573724241  SSR:  266.68655915268204  SSR:  292.31744488992445\n"
     ]
    }
   ],
   "source": [
    "newX = sm.add_constant(df['grade76'].ravel())\n",
    "results = sm.OLS(df['lnwage'], newX).fit()\n",
    "print(results.summary())\n",
    "print('==' * 40)\n",
    "print(\"ESS: \", results.ess, \" SSR: \", results.ssr, \" SST: \", results.centered_tss)\n"
   ]
  },
  {
   "cell_type": "markdown",
   "metadata": {},
   "source": [
    "Now the results indicate that a one-year increase in schooling is associated with an approx. 3.4% increase\n",
    "in hourly wages. Notice that the change in the functional form of the dependent variable also changes the\n",
    "r-squared - we are explaining approx. 8.7% of the variation in the natural log of hourly wages with years of\n",
    "education.\n",
    "\n",
    "\n",
    "7. Lastly we need to construct the residuals (the OLS errors), fitted values, and other information\n",
    "from your (last) regression."
   ]
  },
  {
   "cell_type": "code",
   "execution_count": 251,
   "metadata": {
    "pycharm": {
     "name": "#%%\n"
    }
   },
   "outputs": [
    {
     "ename": "NameError",
     "evalue": "name 'oneTailed' is not defined",
     "output_type": "error",
     "traceback": [
      "\u001b[1;31m---------------------------------------------------------------------------\u001b[0m",
      "\u001b[1;31mNameError\u001b[0m                                 Traceback (most recent call last)",
      "\u001b[1;32m<ipython-input-251-b87665c629aa>\u001b[0m in \u001b[0;36m<module>\u001b[1;34m\u001b[0m\n\u001b[0;32m      1\u001b[0m \u001b[1;31m# 6. One tailed less than test\u001b[0m\u001b[1;33m\u001b[0m\u001b[1;33m\u001b[0m\u001b[1;33m\u001b[0m\u001b[0m\n\u001b[1;32m----> 2\u001b[1;33m \u001b[0moneTailed\u001b[0m\u001b[1;33m(\u001b[0m\u001b[0mt\u001b[0m\u001b[1;33m,\u001b[0m\u001b[0mp\u001b[0m\u001b[1;33m,\u001b[0m \u001b[1;36m0.01\u001b[0m\u001b[1;33m,\u001b[0m \u001b[1;34m'less'\u001b[0m\u001b[1;33m)\u001b[0m\u001b[1;33m\u001b[0m\u001b[1;33m\u001b[0m\u001b[0m\n\u001b[0m\u001b[0;32m      3\u001b[0m \u001b[0moneTailed\u001b[0m\u001b[1;33m(\u001b[0m\u001b[0mt\u001b[0m\u001b[1;33m,\u001b[0m\u001b[0mp\u001b[0m\u001b[1;33m,\u001b[0m \u001b[1;36m0.05\u001b[0m\u001b[1;33m,\u001b[0m \u001b[1;34m'less'\u001b[0m\u001b[1;33m)\u001b[0m\u001b[1;33m\u001b[0m\u001b[1;33m\u001b[0m\u001b[0m\n\u001b[0;32m      4\u001b[0m \u001b[0moneTailed\u001b[0m\u001b[1;33m(\u001b[0m\u001b[0mt\u001b[0m\u001b[1;33m,\u001b[0m\u001b[0mp\u001b[0m\u001b[1;33m,\u001b[0m \u001b[1;36m0.10\u001b[0m\u001b[1;33m,\u001b[0m \u001b[1;34m'less'\u001b[0m\u001b[1;33m)\u001b[0m\u001b[1;33m\u001b[0m\u001b[1;33m\u001b[0m\u001b[0m\n\u001b[0;32m      5\u001b[0m \u001b[1;33m\u001b[0m\u001b[0m\n",
      "\u001b[1;31mNameError\u001b[0m: name 'oneTailed' is not defined"
     ]
    }
   ],
   "source": []
  }
 ],
 "metadata": {
  "kernelspec": {
   "display_name": "Python 3",
   "language": "python",
   "name": "python3"
  },
  "language_info": {
   "codemirror_mode": {
    "name": "ipython",
    "version": 3
   },
   "file_extension": ".py",
   "mimetype": "text/x-python",
   "name": "python",
   "nbconvert_exporter": "python",
   "pygments_lexer": "ipython3",
   "version": "3.8.6"
  }
 },
 "nbformat": 4,
 "nbformat_minor": 4
}
